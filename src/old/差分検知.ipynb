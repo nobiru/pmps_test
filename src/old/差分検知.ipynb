{
 "cells": [
  {
   "cell_type": "code",
   "execution_count": 4,
   "metadata": {},
   "outputs": [
    {
     "name": "stdout",
     "output_type": "stream",
     "text": [
      "✅ 追加された変数:\n",
      " Empty DataFrame\n",
      "Columns: [Value]\n",
      "Index: []\n",
      "\n",
      "❌ 削除された変数:\n",
      " Empty DataFrame\n",
      "Columns: [Value]\n",
      "Index: []\n",
      "\n",
      "🔄 変更された値:\n",
      " Empty DataFrame\n",
      "Columns: [Value]\n",
      "Index: []\n",
      "\n",
      "📂 差分データを 'diff_result.xlsx' に保存しました！\n"
     ]
    }
   ],
   "source": [
    "import pandas as pd\n",
    "\n",
    "df1 = pd.read_excel('solution_レア品種の合計生産回数最小化.xlsx')\n",
    "\n",
    "df2 = pd.read_excel('solution_長時間ドープ切替工場合計切替時間最小化_読み込まれた初期解.xlsx')\n",
    "\n",
    "\n",
    "# 'Variable' をキーとして比較する\n",
    "df1.set_index('Variable', inplace=True)\n",
    "df2.set_index('Variable', inplace=True)\n",
    "\n",
    "# 1️⃣ 追加された変数（df2 にあるが df1 にない）\n",
    "added_variables = df2.loc[~df2.index.isin(df1.index)]\n",
    "\n",
    "# 2️⃣ 削除された変数（df1 にあるが df2 にない）\n",
    "removed_variables = df1.loc[~df1.index.isin(df2.index)]\n",
    "\n",
    "# 3️⃣ 変更された値（共通の変数で Value が異なる）\n",
    "common_variables = df1.index.intersection(df2.index)\n",
    "changed_values = df1.loc[common_variables, 'Value'] != df2.loc[common_variables, 'Value']\n",
    "changed_variables = df2.loc[common_variables][changed_values]\n",
    "\n",
    "# 📌 結果の表示\n",
    "print(\"✅ 追加された変数:\\n\", added_variables)\n",
    "print(\"\\n❌ 削除された変数:\\n\", removed_variables)\n",
    "print(\"\\n🔄 変更された値:\\n\", changed_variables)\n",
    "\n",
    "# オプション：結果を Excel に保存\n",
    "with pd.ExcelWriter(\"diff_result.xlsx\") as writer:\n",
    "    added_variables.to_excel(writer, sheet_name=\"Added Variables\")\n",
    "    removed_variables.to_excel(writer, sheet_name=\"Removed Variables\")\n",
    "    changed_variables.to_excel(writer, sheet_name=\"Changed Values\")\n",
    "\n",
    "print(\"\\n📂 差分データを 'diff_result.xlsx' に保存しました！\")"
   ]
  },
  {
   "cell_type": "code",
   "execution_count": null,
   "metadata": {},
   "outputs": [],
   "source": []
  },
  {
   "cell_type": "code",
   "execution_count": null,
   "metadata": {},
   "outputs": [],
   "source": []
  }
 ],
 "metadata": {
  "kernelspec": {
   "display_name": "Python 3",
   "language": "python",
   "name": "python3"
  },
  "language_info": {
   "codemirror_mode": {
    "name": "ipython",
    "version": 3
   },
   "file_extension": ".py",
   "mimetype": "text/x-python",
   "name": "python",
   "nbconvert_exporter": "python",
   "pygments_lexer": "ipython3",
   "version": "3.10.11"
  }
 },
 "nbformat": 4,
 "nbformat_minor": 2
}
