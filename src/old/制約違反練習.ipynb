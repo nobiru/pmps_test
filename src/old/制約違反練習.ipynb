{
 "cells": [
  {
   "cell_type": "code",
   "execution_count": 1,
   "metadata": {},
   "outputs": [
    {
     "name": "stdout",
     "output_type": "stream",
     "text": [
      "Status: Infeasible\n",
      "\n",
      "スラック変数の値:\n",
      "s1: 1.000000\n",
      "s2: 0.000000\n",
      "s3: 0.000000\n",
      "s4: 0.000000\n",
      "\n",
      "実行可能解は存在しません\n"
     ]
    }
   ],
   "source": [
    "from pulp import *\n",
    "\n",
    "# 問題の作成\n",
    "prob = LpProblem(\"FeasibilityCheck\", LpMinimize)\n",
    "\n",
    "# 変数の定義\n",
    "x = LpVariable(\"x\")\n",
    "y = LpVariable(\"y\")\n",
    "\n",
    "# オリジナルの制約（実行不可能な例）\n",
    "prob += x + y <= 1, \"c1\"\n",
    "prob += x + y >= 2, \"c2\"\n",
    "prob += x >= 0, \"c3\"\n",
    "prob += y >= 0, \"c4\"\n",
    "\n",
    "# スラック変数の定義\n",
    "s1 = LpVariable(\"s1\", 0)  # s1 >= 0\n",
    "s2 = LpVariable(\"s2\", 0)  # s2 >= 0\n",
    "s3 = LpVariable(\"s3\", 0)  # s3 >= 0\n",
    "s4 = LpVariable(\"s4\", 0)  # s4 >= 0\n",
    "\n",
    "# スラック変数を入れた制約\n",
    "prob += x + y - s1 <= 1, \"slack_c1\"\n",
    "prob += x + y + s2 >= 2, \"slack_c2\"\n",
    "prob += x + s3 >= 0, \"slack_c3\"\n",
    "prob += y + s4 >= 0, \"slack_c4\"\n",
    "\n",
    "# 目的関数（スラック変数の和の最小化）\n",
    "prob += s1 + s2 + s3 + s4\n",
    "\n",
    "# 解く\n",
    "prob.solve()\n",
    "\n",
    "# 結果の表示\n",
    "print(\"Status:\", LpStatus[prob.status])\n",
    "print(\"\\nスラック変数の値:\")\n",
    "print(f\"s1: {value(s1):.6f}\")\n",
    "print(f\"s2: {value(s2):.6f}\")\n",
    "print(f\"s3: {value(s3):.6f}\")\n",
    "print(f\"s4: {value(s4):.6f}\")\n",
    "\n",
    "if all(value(s) < 1e-10 for s in [s1, s2, s3, s4]):\n",
    "    print(\"\\n実行可能解が存在します\")\n",
    "else:\n",
    "    print(\"\\n実行可能解は存在しません\")"
   ]
  },
  {
   "cell_type": "code",
   "execution_count": 9,
   "metadata": {},
   "outputs": [
    {
     "name": "stdout",
     "output_type": "stream",
     "text": [
      "Status: Optimal\n",
      "\n",
      "スラック変数の値:\n",
      "s2: 1.000000\n",
      "s3: 0.000000\n",
      "s4: 0.000000\n",
      "\n",
      "変数の値:\n",
      "x: 0.000000\n",
      "y: 1.000000\n",
      "\n",
      "実行可能解は存在しません\n",
      "最小の違反量の合計: 1.0\n"
     ]
    }
   ],
   "source": [
    "from pulp import *\n",
    "\n",
    "# 問題の作成\n",
    "prob = LpProblem(\"FeasibilityCheck\", LpMinimize)\n",
    "\n",
    "# 変数の定義\n",
    "x = LpVariable(\"x\")\n",
    "y = LpVariable(\"y\")\n",
    "\n",
    "# スラック変数の定義\n",
    "s1 = LpVariable(\"s1\", 0)  # s1 >= 0\n",
    "s2 = LpVariable(\"s2\", 0)  # s2 >= 0\n",
    "s3 = LpVariable(\"s3\", 0)  # s3 >= 0\n",
    "s4 = LpVariable(\"s4\", 0)  # s4 >= 0\n",
    "\n",
    "# スラック変数を入れた制約のみを定義\n",
    "prob += x + y  <= 1, \"slack_c1\"\n",
    "prob += x + y + s2 >= 2, \"slack_c2\"\n",
    "prob += x + s3 >= 0, \"slack_c3\"\n",
    "prob += y + s4 >= 0, \"slack_c4\"\n",
    "\n",
    "# 目的関数（スラック変数の和の最小化）\n",
    "prob += s2\n",
    "\n",
    "# 解く\n",
    "prob.solve()\n",
    "\n",
    "# 結果の表示\n",
    "print(\"Status:\", LpStatus[prob.status])\n",
    "print(\"\\nスラック変数の値:\")\n",
    "#print(f\"s1: {value(s1):.6f}\")\n",
    "print(f\"s2: {value(s2):.6f}\")\n",
    "print(f\"s3: {value(s3):.6f}\")\n",
    "print(f\"s4: {value(s4):.6f}\")\n",
    "\n",
    "print(\"\\n変数の値:\")\n",
    "print(f\"x: {value(x):.6f}\")\n",
    "print(f\"y: {value(y):.6f}\")\n",
    "\n",
    "# if all(value(s) < 1e-10 for s in [s1, s2, s3, s4]):\n",
    "#     print(\"\\n実行可能解が存在します\")\n",
    "print(\"\\n実行可能解は存在しません\")\n",
    "print(\"最小の違反量の合計:\", value(prob.objective))"
   ]
  },
  {
   "cell_type": "code",
   "execution_count": null,
   "metadata": {},
   "outputs": [],
   "source": []
  },
  {
   "cell_type": "code",
   "execution_count": null,
   "metadata": {},
   "outputs": [],
   "source": []
  }
 ],
 "metadata": {
  "kernelspec": {
   "display_name": "Python 3",
   "language": "python",
   "name": "python3"
  },
  "language_info": {
   "codemirror_mode": {
    "name": "ipython",
    "version": 3
   },
   "file_extension": ".py",
   "mimetype": "text/x-python",
   "name": "python",
   "nbconvert_exporter": "python",
   "pygments_lexer": "ipython3",
   "version": "3.10.11"
  }
 },
 "nbformat": 4,
 "nbformat_minor": 2
}
