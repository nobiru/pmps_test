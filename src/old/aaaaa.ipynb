{
 "cells": [
  {
   "cell_type": "code",
   "execution_count": null,
   "metadata": {},
   "outputs": [],
   "source": []
  },
  {
   "cell_type": "code",
   "execution_count": 1,
   "metadata": {},
   "outputs": [
    {
     "name": "stdout",
     "output_type": "stream",
     "text": [
      "=== Checking default temp directory ===\n",
      "Default temp directory: C:\\Users\\e13753\\AppData\\Local\\Temp\n",
      "\n",
      "Created temp file at: C:\\Users\\e13753\\AppData\\Local\\Temp\\tmp40ioknck.sol\n",
      "File exists: True\n",
      "File content: test data\n",
      "File deleted: True\n",
      "\n",
      "=== Creating temp file in specific directory ===\n",
      "\n",
      "Current working directory: c:\\Users\\e13753\\OneDrive - Konica Minolta\\デスクトップ\\Simulator_Projects\\AllocationOptSim\\src\n",
      "Created temp file in specific directory: c:\\Users\\e13753\\OneDrive - Konica Minolta\\デスクトップ\\Simulator_Projects\\AllocationOptSim\\src\\temp\\initial_solution_14876.sol\n",
      "File exists: True\n",
      "File deleted: True\n"
     ]
    }
   ],
   "source": [
    "import tempfile\n",
    "import os\n",
    "\n",
    "def check_temp_directory():\n",
    "    \"\"\"一時ディレクトリの場所とファイル作成をチェック\"\"\"\n",
    "    # デフォルトの一時ディレクトリを表示\n",
    "    print(f\"Default temp directory: {tempfile.gettempdir()}\")\n",
    "    \n",
    "    # 一時ファイルを作成してパスを確認\n",
    "    with tempfile.NamedTemporaryFile(mode='w', delete=False, suffix='.sol') as f:\n",
    "        f.write(\"test data\\n\")\n",
    "        temp_file_path = f.name\n",
    "        print(f\"\\nCreated temp file at: {temp_file_path}\")\n",
    "    \n",
    "    # ファイルの存在確認\n",
    "    print(f\"File exists: {os.path.exists(temp_file_path)}\")\n",
    "    \n",
    "    # ファイルの内容確認\n",
    "    with open(temp_file_path, 'r') as f:\n",
    "        content = f.read()\n",
    "        print(f\"File content: {content.strip()}\")\n",
    "    \n",
    "    # ファイルの削除\n",
    "    os.remove(temp_file_path)\n",
    "    print(f\"File deleted: {not os.path.exists(temp_file_path)}\")\n",
    "\n",
    "def create_temp_in_specific_directory():\n",
    "    \"\"\"特定のディレクトリに一時ファイルを作成\"\"\"\n",
    "    # カレントディレクトリでの一時ファイル作成\n",
    "    current_dir = os.getcwd()\n",
    "    print(f\"\\nCurrent working directory: {current_dir}\")\n",
    "    \n",
    "    # カレントディレクトリに'temp'ディレクトリを作成\n",
    "    temp_dir = os.path.join(current_dir, 'temp')\n",
    "    os.makedirs(temp_dir, exist_ok=True)\n",
    "    \n",
    "    # 特定のディレクトリに一時ファイルを作成\n",
    "    temp_file_path = os.path.join(temp_dir, f'initial_solution_{os.getpid()}.sol')\n",
    "    with open(temp_file_path, 'w') as f:\n",
    "        f.write(\"test data in specific directory\\n\")\n",
    "    \n",
    "    print(f\"Created temp file in specific directory: {temp_file_path}\")\n",
    "    print(f\"File exists: {os.path.exists(temp_file_path)}\")\n",
    "    \n",
    "    # ファイルの削除\n",
    "    os.remove(temp_file_path)\n",
    "    print(f\"File deleted: {not os.path.exists(temp_file_path)}\")\n",
    "\n",
    "if __name__ == \"__main__\":\n",
    "    print(\"=== Checking default temp directory ===\")\n",
    "    check_temp_directory()\n",
    "    \n",
    "    print(\"\\n=== Creating temp file in specific directory ===\")\n",
    "    create_temp_in_specific_directory()"
   ]
  },
  {
   "cell_type": "code",
   "execution_count": null,
   "metadata": {},
   "outputs": [],
   "source": []
  },
  {
   "cell_type": "code",
   "execution_count": 1,
   "metadata": {},
   "outputs": [
    {
     "ename": "AttributeError",
     "evalue": "'PULP_CBC_CMD' object has no attribute 'available_options'",
     "output_type": "error",
     "traceback": [
      "\u001b[1;31m---------------------------------------------------------------------------\u001b[0m",
      "\u001b[1;31mAttributeError\u001b[0m                            Traceback (most recent call last)",
      "Cell \u001b[1;32mIn[1], line 3\u001b[0m\n\u001b[0;32m      1\u001b[0m \u001b[38;5;28;01mimport\u001b[39;00m \u001b[38;5;21;01mpulp\u001b[39;00m\n\u001b[0;32m      2\u001b[0m solver \u001b[38;5;241m=\u001b[39m pulp\u001b[38;5;241m.\u001b[39mPULP_CBC_CMD()\n\u001b[1;32m----> 3\u001b[0m \u001b[38;5;28mprint\u001b[39m(\u001b[43msolver\u001b[49m\u001b[38;5;241;43m.\u001b[39;49m\u001b[43mavailable_options\u001b[49m())  \u001b[38;5;66;03m# 利用可能なオプションを確認\u001b[39;00m\n",
      "\u001b[1;31mAttributeError\u001b[0m: 'PULP_CBC_CMD' object has no attribute 'available_options'"
     ]
    }
   ],
   "source": [
    "import pulp\n",
    "solver = pulp.PULP_CBC_CMD()\n",
    "print(solver.available_options())  # 利用可能なオプションを確認"
   ]
  },
  {
   "cell_type": "code",
   "execution_count": 2,
   "metadata": {},
   "outputs": [
    {
     "ename": "SyntaxError",
     "evalue": "invalid syntax (2058888678.py, line 1)",
     "output_type": "error",
     "traceback": [
      "\u001b[1;36m  Cell \u001b[1;32mIn[2], line 1\u001b[1;36m\u001b[0m\n\u001b[1;33m    cbc help\u001b[0m\n\u001b[1;37m        ^\u001b[0m\n\u001b[1;31mSyntaxError\u001b[0m\u001b[1;31m:\u001b[0m invalid syntax\n"
     ]
    }
   ],
   "source": [
    "cbc help"
   ]
  },
  {
   "cell_type": "code",
   "execution_count": null,
   "metadata": {},
   "outputs": [],
   "source": []
  }
 ],
 "metadata": {
  "kernelspec": {
   "display_name": "Python 3",
   "language": "python",
   "name": "python3"
  },
  "language_info": {
   "codemirror_mode": {
    "name": "ipython",
    "version": 3
   },
   "file_extension": ".py",
   "mimetype": "text/x-python",
   "name": "python",
   "nbconvert_exporter": "python",
   "pygments_lexer": "ipython3",
   "version": "3.10.11"
  }
 },
 "nbformat": 4,
 "nbformat_minor": 2
}
