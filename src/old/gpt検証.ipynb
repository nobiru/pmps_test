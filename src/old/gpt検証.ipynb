{
 "cells": [
  {
   "cell_type": "code",
   "execution_count": 5,
   "metadata": {},
   "outputs": [],
   "source": [
    "nested_dict = {\n",
    "    'plant1': {\n",
    "        '保全①': {'抱き合わせ希望': False, '抱き合わせ可能': True},\n",
    "        '保全②': {'抱き合わせ希望': False, '抱き合わせ可能': True}\n",
    "    },\n",
    "    'plant2': {\n",
    "        '保全①': {'抱き合わせ希望': True, '抱き合わせ可能': True}\n",
    "    }\n",
    "}"
   ]
  },
  {
   "cell_type": "code",
   "execution_count": 6,
   "metadata": {},
   "outputs": [
    {
     "name": "stdout",
     "output_type": "stream",
     "text": [
      "(('plant1', '保全①'),)\n",
      "(('plant1', '保全②'),)\n",
      "(('plant1', '保全①'), ('plant1', '保全②'))\n"
     ]
    }
   ],
   "source": [
    "from itertools import combinations\n",
    "\n",
    "def generate_all_combinations(nested_dict):\n",
    "    \"\"\"\n",
    "    Generate a list of all possible combinations of entries where:\n",
    "    '抱き合わせ可能' is True and '抱き合わせ希望' is False.\n",
    "    \n",
    "    Args:\n",
    "        nested_dict (dict): Original nested dictionary.\n",
    "    \n",
    "    Returns:\n",
    "        list: List of all possible combinations as tuples.\n",
    "    \"\"\"\n",
    "    # Extract all eligible entries\n",
    "    eligible_entries = []\n",
    "    for factory, maintenances in nested_dict.items():\n",
    "        for maintenance, details in maintenances.items():\n",
    "            if details['抱き合わせ可能'] and not details['抱き合わせ希望']:\n",
    "                eligible_entries.append((factory, maintenance))\n",
    "    \n",
    "    # Generate all combinations\n",
    "    all_combinations = []\n",
    "    for r in range(1, len(eligible_entries) + 1):\n",
    "        all_combinations.extend(combinations(eligible_entries, r))\n",
    "    \n",
    "    return all_combinations\n",
    "\n",
    "# Generate all combinations\n",
    "all_combinations = generate_all_combinations(nested_dict)\n",
    "\n",
    "# Output the combinations\n",
    "for combination in all_combinations:\n",
    "    print(combination)"
   ]
  },
  {
   "cell_type": "code",
   "execution_count": null,
   "metadata": {},
   "outputs": [],
   "source": [
    "def apply_combination_to_dict(nested_dict, combination):\n",
    "    \"\"\"\n",
    "    Generate a new dictionary by applying a specific combination to the nested dictionary.\n",
    "    Set '抱き合わせ希望' to True in the relevant entries.\n",
    "    \n",
    "    Args:\n",
    "        nested_dict (dict): Original nested dictionary.\n",
    "        combination (list of tuple): Combination of (factory, maintenance) to apply.\n",
    "    \n",
    "    Returns:\n",
    "        dict: New dictionary with the combination applied.\n",
    "    \"\"\"\n",
    "    # Create a deep copy of the original dictionary\n",
    "    new_dict = {factory: {maintenance: details.copy() \n",
    "                          for maintenance, details in maintenances.items()} \n",
    "                for factory, maintenances in nested_dict.items()}\n",
    "    \n",
    "    # Apply the combination\n",
    "    for factory, maintenance in combination:\n",
    "        if factory in new_dict and maintenance in new_dict[factory]:\n",
    "            new_dict[factory][maintenance]['抱き合わせ希望'] = True\n",
    "    \n",
    "    return new_dict\n",
    "\n",
    "\n",
    "\n"
   ]
  },
  {
   "cell_type": "code",
   "execution_count": 8,
   "metadata": {},
   "outputs": [
    {
     "name": "stdout",
     "output_type": "stream",
     "text": [
      "{'plant1': {'保全①': {'抱き合わせ希望': True, '抱き合わせ可能': True}, '保全②': {'抱き合わせ希望': False, '抱き合わせ可能': True}}, 'plant2': {'保全①': {'抱き合わせ希望': True, '抱き合わせ可能': True}}}\n",
      "{'plant1': {'保全①': {'抱き合わせ希望': False, '抱き合わせ可能': True}, '保全②': {'抱き合わせ希望': True, '抱き合わせ可能': True}}, 'plant2': {'保全①': {'抱き合わせ希望': True, '抱き合わせ可能': True}}}\n",
      "{'plant1': {'保全①': {'抱き合わせ希望': True, '抱き合わせ可能': True}, '保全②': {'抱き合わせ希望': True, '抱き合わせ可能': True}}, 'plant2': {'保全①': {'抱き合わせ希望': True, '抱き合わせ可能': True}}}\n"
     ]
    }
   ],
   "source": [
    "for combination in all_combinations:\n",
    "    new_dict = apply_combination_to_dict(nested_dict, combination)\n",
    "    print(new_dict)"
   ]
  },
  {
   "cell_type": "code",
   "execution_count": null,
   "metadata": {},
   "outputs": [],
   "source": []
  },
  {
   "cell_type": "code",
   "execution_count": null,
   "metadata": {},
   "outputs": [],
   "source": []
  },
  {
   "cell_type": "code",
   "execution_count": null,
   "metadata": {},
   "outputs": [],
   "source": []
  }
 ],
 "metadata": {
  "kernelspec": {
   "display_name": "Python 3",
   "language": "python",
   "name": "python3"
  },
  "language_info": {
   "codemirror_mode": {
    "name": "ipython",
    "version": 3
   },
   "file_extension": ".py",
   "mimetype": "text/x-python",
   "name": "python",
   "nbconvert_exporter": "python",
   "pygments_lexer": "ipython3",
   "version": "3.10.11"
  }
 },
 "nbformat": 4,
 "nbformat_minor": 2
}
