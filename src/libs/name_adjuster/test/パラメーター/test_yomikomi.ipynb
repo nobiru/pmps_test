{
 "cells": [
  {
   "cell_type": "code",
   "execution_count": 10,
   "metadata": {},
   "outputs": [],
   "source": [
    "import pandas as pd"
   ]
  },
  {
   "cell_type": "code",
   "execution_count": 11,
   "metadata": {},
   "outputs": [],
   "source": [
    "dev_test_table = pd.read_excel(\"./開発テスト計画.xlsx\",\"L2\")"
   ]
  },
  {
   "cell_type": "code",
   "execution_count": 12,
   "metadata": {},
   "outputs": [
    {
     "data": {
      "text/html": [
       "<div>\n",
       "<style scoped>\n",
       "    .dataframe tbody tr th:only-of-type {\n",
       "        vertical-align: middle;\n",
       "    }\n",
       "\n",
       "    .dataframe tbody tr th {\n",
       "        vertical-align: top;\n",
       "    }\n",
       "\n",
       "    .dataframe thead th {\n",
       "        text-align: right;\n",
       "    }\n",
       "</style>\n",
       "<table border=\"1\" class=\"dataframe\">\n",
       "  <thead>\n",
       "    <tr style=\"text-align: right;\">\n",
       "      <th></th>\n",
       "      <th>開発テスト名</th>\n",
       "      <th>所要時間</th>\n",
       "      <th>開始日時</th>\n",
       "      <th>終了日時</th>\n",
       "    </tr>\n",
       "  </thead>\n",
       "  <tbody>\n",
       "    <tr>\n",
       "      <th>0</th>\n",
       "      <td>SINSYUテスト➀</td>\n",
       "      <td>48</td>\n",
       "      <td>2022-05-01 08:00:00</td>\n",
       "      <td>2022-06-20 08:00:00</td>\n",
       "    </tr>\n",
       "    <tr>\n",
       "      <th>1</th>\n",
       "      <td>SINSYUテスト➁</td>\n",
       "      <td>67</td>\n",
       "      <td>2022-07-05 00:00:00</td>\n",
       "      <td>2022-07-25 00:00:00</td>\n",
       "    </tr>\n",
       "  </tbody>\n",
       "</table>\n",
       "</div>"
      ],
      "text/plain": [
       "       開発テスト名  所要時間                開始日時                終了日時\n",
       "0  SINSYUテスト➀    48 2022-05-01 08:00:00 2022-06-20 08:00:00\n",
       "1  SINSYUテスト➁    67 2022-07-05 00:00:00 2022-07-25 00:00:00"
      ]
     },
     "execution_count": 12,
     "metadata": {},
     "output_type": "execute_result"
    }
   ],
   "source": [
    "dev_test_table"
   ]
  },
  {
   "cell_type": "code",
   "execution_count": 15,
   "metadata": {},
   "outputs": [],
   "source": [
    "dev_test_table = dev_test_table.set_index(\"開発テスト名\")"
   ]
  },
  {
   "cell_type": "code",
   "execution_count": 16,
   "metadata": {},
   "outputs": [
    {
     "data": {
      "text/plain": [
       "{'SINSYUテスト➀': {'所要時間': 48,\n",
       "  '開始日時': Timestamp('2022-05-01 08:00:00'),\n",
       "  '終了日時': Timestamp('2022-06-20 08:00:00')},\n",
       " 'SINSYUテスト➁': {'所要時間': 67,\n",
       "  '開始日時': Timestamp('2022-07-05 00:00:00'),\n",
       "  '終了日時': Timestamp('2022-07-25 00:00:00')}}"
      ]
     },
     "execution_count": 16,
     "metadata": {},
     "output_type": "execute_result"
    }
   ],
   "source": [
    "dev_test_table.to_dict(orient=\"index\")"
   ]
  },
  {
   "cell_type": "code",
   "execution_count": 17,
   "metadata": {},
   "outputs": [],
   "source": [
    "import pickle\n",
    "\n",
    "class TestMainttoDict():\n",
    "        \n",
    "    def __init__(self, plan_table,index_name):\n",
    "        self.plan_table = plan_table\n",
    "        self.index_name = index_name\n",
    "        self.convert_to_dict()\n",
    "    \n",
    "    def convert_to_dict(self):\n",
    "        self.plan_table = self.plan_table.set_index(self.index_name)\n",
    "        self.plan_table = self.plan_table.to_dict(orient=\"index\") \n",
    "    \n",
    "    def make_pickle(self,export_file_path):\n",
    "        with open(export_file_path,\"wb\") as f:\n",
    "            pickle.dump(self.plan_table, f)"
   ]
  },
  {
   "cell_type": "code",
   "execution_count": null,
   "metadata": {},
   "outputs": [],
   "source": []
  }
 ],
 "metadata": {
  "kernelspec": {
   "display_name": "Python 3.7.6 ('base')",
   "language": "python",
   "name": "python3"
  },
  "language_info": {
   "codemirror_mode": {
    "name": "ipython",
    "version": 3
   },
   "file_extension": ".py",
   "mimetype": "text/x-python",
   "name": "python",
   "nbconvert_exporter": "python",
   "pygments_lexer": "ipython3",
   "version": "3.7.6"
  },
  "orig_nbformat": 4,
  "vscode": {
   "interpreter": {
    "hash": "267e9868efe31ee80e66a4b291fc751188e6d61163437528b9a7d8987990ddad"
   }
  }
 },
 "nbformat": 4,
 "nbformat_minor": 2
}
